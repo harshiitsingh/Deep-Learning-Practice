{
 "cells": [
  {
   "cell_type": "markdown",
   "id": "61fa3865",
   "metadata": {},
   "source": [
    "First load the Spotify dataset. Your task will be to predict the popularity of a song based on various audio features, like 'tempo', 'danceability', and 'mode'."
   ]
  },
  {
   "cell_type": "code",
   "execution_count": 1,
   "id": "618d99ed",
   "metadata": {},
   "outputs": [],
   "source": [
    "import pandas as pd\n",
    "from sklearn.preprocessing import StandardScaler, OneHotEncoder\n",
    "from sklearn.compose import make_column_transformer\n",
    "from sklearn.model_selection import GroupShuffleSplit\n",
    "\n",
    "from tensorflow import keras\n",
    "from tensorflow.keras import layers\n",
    "from tensorflow.keras import callbacks"
   ]
  },
  {
   "cell_type": "code",
   "execution_count": 4,
   "id": "5abdfcb9",
   "metadata": {},
   "outputs": [
    {
     "data": {
      "text/html": [
       "<div>\n",
       "<style scoped>\n",
       "    .dataframe tbody tr th:only-of-type {\n",
       "        vertical-align: middle;\n",
       "    }\n",
       "\n",
       "    .dataframe tbody tr th {\n",
       "        vertical-align: top;\n",
       "    }\n",
       "\n",
       "    .dataframe thead th {\n",
       "        text-align: right;\n",
       "    }\n",
       "</style>\n",
       "<table border=\"1\" class=\"dataframe\">\n",
       "  <thead>\n",
       "    <tr style=\"text-align: right;\">\n",
       "      <th></th>\n",
       "      <th>track_id</th>\n",
       "      <th>track_name</th>\n",
       "      <th>track_artist</th>\n",
       "      <th>track_popularity</th>\n",
       "      <th>track_album_id</th>\n",
       "      <th>track_album_name</th>\n",
       "      <th>track_album_release_date</th>\n",
       "      <th>playlist_name</th>\n",
       "      <th>playlist_id</th>\n",
       "      <th>playlist_genre</th>\n",
       "      <th>...</th>\n",
       "      <th>key</th>\n",
       "      <th>loudness</th>\n",
       "      <th>mode</th>\n",
       "      <th>speechiness</th>\n",
       "      <th>acousticness</th>\n",
       "      <th>instrumentalness</th>\n",
       "      <th>liveness</th>\n",
       "      <th>valence</th>\n",
       "      <th>tempo</th>\n",
       "      <th>duration_ms</th>\n",
       "    </tr>\n",
       "  </thead>\n",
       "  <tbody>\n",
       "    <tr>\n",
       "      <th>0</th>\n",
       "      <td>6f807x0ima9a1j3VPbc7VN</td>\n",
       "      <td>I Don't Care (with Justin Bieber) - Loud Luxur...</td>\n",
       "      <td>Ed Sheeran</td>\n",
       "      <td>66</td>\n",
       "      <td>2oCs0DGTsRO98Gh5ZSl2Cx</td>\n",
       "      <td>I Don't Care (with Justin Bieber) [Loud Luxury...</td>\n",
       "      <td>2019-06-14</td>\n",
       "      <td>Pop Remix</td>\n",
       "      <td>37i9dQZF1DXcZDD7cfEKhW</td>\n",
       "      <td>pop</td>\n",
       "      <td>...</td>\n",
       "      <td>6</td>\n",
       "      <td>-2.634</td>\n",
       "      <td>1</td>\n",
       "      <td>0.0583</td>\n",
       "      <td>0.1020</td>\n",
       "      <td>0.000000</td>\n",
       "      <td>0.0653</td>\n",
       "      <td>0.518</td>\n",
       "      <td>122.036</td>\n",
       "      <td>194754</td>\n",
       "    </tr>\n",
       "    <tr>\n",
       "      <th>1</th>\n",
       "      <td>0r7CVbZTWZgbTCYdfa2P31</td>\n",
       "      <td>Memories - Dillon Francis Remix</td>\n",
       "      <td>Maroon 5</td>\n",
       "      <td>67</td>\n",
       "      <td>63rPSO264uRjW1X5E6cWv6</td>\n",
       "      <td>Memories (Dillon Francis Remix)</td>\n",
       "      <td>2019-12-13</td>\n",
       "      <td>Pop Remix</td>\n",
       "      <td>37i9dQZF1DXcZDD7cfEKhW</td>\n",
       "      <td>pop</td>\n",
       "      <td>...</td>\n",
       "      <td>11</td>\n",
       "      <td>-4.969</td>\n",
       "      <td>1</td>\n",
       "      <td>0.0373</td>\n",
       "      <td>0.0724</td>\n",
       "      <td>0.004210</td>\n",
       "      <td>0.3570</td>\n",
       "      <td>0.693</td>\n",
       "      <td>99.972</td>\n",
       "      <td>162600</td>\n",
       "    </tr>\n",
       "    <tr>\n",
       "      <th>2</th>\n",
       "      <td>1z1Hg7Vb0AhHDiEmnDE79l</td>\n",
       "      <td>All the Time - Don Diablo Remix</td>\n",
       "      <td>Zara Larsson</td>\n",
       "      <td>70</td>\n",
       "      <td>1HoSmj2eLcsrR0vE9gThr4</td>\n",
       "      <td>All the Time (Don Diablo Remix)</td>\n",
       "      <td>2019-07-05</td>\n",
       "      <td>Pop Remix</td>\n",
       "      <td>37i9dQZF1DXcZDD7cfEKhW</td>\n",
       "      <td>pop</td>\n",
       "      <td>...</td>\n",
       "      <td>1</td>\n",
       "      <td>-3.432</td>\n",
       "      <td>0</td>\n",
       "      <td>0.0742</td>\n",
       "      <td>0.0794</td>\n",
       "      <td>0.000023</td>\n",
       "      <td>0.1100</td>\n",
       "      <td>0.613</td>\n",
       "      <td>124.008</td>\n",
       "      <td>176616</td>\n",
       "    </tr>\n",
       "    <tr>\n",
       "      <th>3</th>\n",
       "      <td>75FpbthrwQmzHlBJLuGdC7</td>\n",
       "      <td>Call You Mine - Keanu Silva Remix</td>\n",
       "      <td>The Chainsmokers</td>\n",
       "      <td>60</td>\n",
       "      <td>1nqYsOef1yKKuGOVchbsk6</td>\n",
       "      <td>Call You Mine - The Remixes</td>\n",
       "      <td>2019-07-19</td>\n",
       "      <td>Pop Remix</td>\n",
       "      <td>37i9dQZF1DXcZDD7cfEKhW</td>\n",
       "      <td>pop</td>\n",
       "      <td>...</td>\n",
       "      <td>7</td>\n",
       "      <td>-3.778</td>\n",
       "      <td>1</td>\n",
       "      <td>0.1020</td>\n",
       "      <td>0.0287</td>\n",
       "      <td>0.000009</td>\n",
       "      <td>0.2040</td>\n",
       "      <td>0.277</td>\n",
       "      <td>121.956</td>\n",
       "      <td>169093</td>\n",
       "    </tr>\n",
       "    <tr>\n",
       "      <th>4</th>\n",
       "      <td>1e8PAfcKUYoKkxPhrHqw4x</td>\n",
       "      <td>Someone You Loved - Future Humans Remix</td>\n",
       "      <td>Lewis Capaldi</td>\n",
       "      <td>69</td>\n",
       "      <td>7m7vv9wlQ4i0LFuJiE2zsQ</td>\n",
       "      <td>Someone You Loved (Future Humans Remix)</td>\n",
       "      <td>2019-03-05</td>\n",
       "      <td>Pop Remix</td>\n",
       "      <td>37i9dQZF1DXcZDD7cfEKhW</td>\n",
       "      <td>pop</td>\n",
       "      <td>...</td>\n",
       "      <td>1</td>\n",
       "      <td>-4.672</td>\n",
       "      <td>1</td>\n",
       "      <td>0.0359</td>\n",
       "      <td>0.0803</td>\n",
       "      <td>0.000000</td>\n",
       "      <td>0.0833</td>\n",
       "      <td>0.725</td>\n",
       "      <td>123.976</td>\n",
       "      <td>189052</td>\n",
       "    </tr>\n",
       "  </tbody>\n",
       "</table>\n",
       "<p>5 rows × 23 columns</p>\n",
       "</div>"
      ],
      "text/plain": [
       "                 track_id                                         track_name  \\\n",
       "0  6f807x0ima9a1j3VPbc7VN  I Don't Care (with Justin Bieber) - Loud Luxur...   \n",
       "1  0r7CVbZTWZgbTCYdfa2P31                    Memories - Dillon Francis Remix   \n",
       "2  1z1Hg7Vb0AhHDiEmnDE79l                    All the Time - Don Diablo Remix   \n",
       "3  75FpbthrwQmzHlBJLuGdC7                  Call You Mine - Keanu Silva Remix   \n",
       "4  1e8PAfcKUYoKkxPhrHqw4x            Someone You Loved - Future Humans Remix   \n",
       "\n",
       "       track_artist  track_popularity          track_album_id  \\\n",
       "0        Ed Sheeran                66  2oCs0DGTsRO98Gh5ZSl2Cx   \n",
       "1          Maroon 5                67  63rPSO264uRjW1X5E6cWv6   \n",
       "2      Zara Larsson                70  1HoSmj2eLcsrR0vE9gThr4   \n",
       "3  The Chainsmokers                60  1nqYsOef1yKKuGOVchbsk6   \n",
       "4     Lewis Capaldi                69  7m7vv9wlQ4i0LFuJiE2zsQ   \n",
       "\n",
       "                                    track_album_name track_album_release_date  \\\n",
       "0  I Don't Care (with Justin Bieber) [Loud Luxury...               2019-06-14   \n",
       "1                    Memories (Dillon Francis Remix)               2019-12-13   \n",
       "2                    All the Time (Don Diablo Remix)               2019-07-05   \n",
       "3                        Call You Mine - The Remixes               2019-07-19   \n",
       "4            Someone You Loved (Future Humans Remix)               2019-03-05   \n",
       "\n",
       "  playlist_name             playlist_id playlist_genre  ... key  loudness  \\\n",
       "0     Pop Remix  37i9dQZF1DXcZDD7cfEKhW            pop  ...   6    -2.634   \n",
       "1     Pop Remix  37i9dQZF1DXcZDD7cfEKhW            pop  ...  11    -4.969   \n",
       "2     Pop Remix  37i9dQZF1DXcZDD7cfEKhW            pop  ...   1    -3.432   \n",
       "3     Pop Remix  37i9dQZF1DXcZDD7cfEKhW            pop  ...   7    -3.778   \n",
       "4     Pop Remix  37i9dQZF1DXcZDD7cfEKhW            pop  ...   1    -4.672   \n",
       "\n",
       "   mode  speechiness  acousticness  instrumentalness  liveness  valence  \\\n",
       "0     1       0.0583        0.1020          0.000000    0.0653    0.518   \n",
       "1     1       0.0373        0.0724          0.004210    0.3570    0.693   \n",
       "2     0       0.0742        0.0794          0.000023    0.1100    0.613   \n",
       "3     1       0.1020        0.0287          0.000009    0.2040    0.277   \n",
       "4     1       0.0359        0.0803          0.000000    0.0833    0.725   \n",
       "\n",
       "     tempo  duration_ms  \n",
       "0  122.036       194754  \n",
       "1   99.972       162600  \n",
       "2  124.008       176616  \n",
       "3  121.956       169093  \n",
       "4  123.976       189052  \n",
       "\n",
       "[5 rows x 23 columns]"
      ]
     },
     "execution_count": 4,
     "metadata": {},
     "output_type": "execute_result"
    }
   ],
   "source": [
    "spotify = pd.read_csv('spotify.csv')\n",
    "spotify.head()"
   ]
  },
  {
   "cell_type": "code",
   "execution_count": 5,
   "id": "fe6d5ebe",
   "metadata": {},
   "outputs": [
    {
     "data": {
      "text/plain": [
       "(32833, 23)"
      ]
     },
     "execution_count": 5,
     "metadata": {},
     "output_type": "execute_result"
    }
   ],
   "source": [
    "spotify.shape"
   ]
  },
  {
   "cell_type": "code",
   "execution_count": 11,
   "id": "fde2b0af",
   "metadata": {},
   "outputs": [
    {
     "data": {
      "text/plain": [
       "Index(['track_id', 'track_name', 'track_artist', 'track_popularity',\n",
       "       'track_album_id', 'track_album_name', 'track_album_release_date',\n",
       "       'playlist_name', 'playlist_id', 'playlist_genre', 'playlist_subgenre',\n",
       "       'danceability', 'energy', 'key', 'loudness', 'mode', 'speechiness',\n",
       "       'acousticness', 'instrumentalness', 'liveness', 'valence', 'tempo',\n",
       "       'duration_ms'],\n",
       "      dtype='object')"
      ]
     },
     "execution_count": 11,
     "metadata": {},
     "output_type": "execute_result"
    }
   ],
   "source": [
    "spotify.columns"
   ]
  },
  {
   "cell_type": "code",
   "execution_count": 7,
   "id": "c0ed9ee6",
   "metadata": {},
   "outputs": [
    {
     "data": {
      "text/plain": [
       "track_id                    0\n",
       "track_name                  5\n",
       "track_artist                5\n",
       "track_popularity            0\n",
       "track_album_id              0\n",
       "track_album_name            5\n",
       "track_album_release_date    0\n",
       "playlist_name               0\n",
       "playlist_id                 0\n",
       "playlist_genre              0\n",
       "playlist_subgenre           0\n",
       "danceability                0\n",
       "energy                      0\n",
       "key                         0\n",
       "loudness                    0\n",
       "mode                        0\n",
       "speechiness                 0\n",
       "acousticness                0\n",
       "instrumentalness            0\n",
       "liveness                    0\n",
       "valence                     0\n",
       "tempo                       0\n",
       "duration_ms                 0\n",
       "dtype: int64"
      ]
     },
     "execution_count": 7,
     "metadata": {},
     "output_type": "execute_result"
    }
   ],
   "source": [
    "spotify.isnull().sum()"
   ]
  },
  {
   "cell_type": "code",
   "execution_count": 8,
   "id": "bdafbf93",
   "metadata": {},
   "outputs": [],
   "source": [
    "X = spotify.copy().dropna()\n",
    "y = X.pop('track_popularity')\n",
    "artists = X['track_artist']"
   ]
  },
  {
   "cell_type": "code",
   "execution_count": 9,
   "id": "1594b65b",
   "metadata": {},
   "outputs": [
    {
     "data": {
      "text/plain": [
       "track_id                    0\n",
       "track_name                  0\n",
       "track_artist                0\n",
       "track_album_id              0\n",
       "track_album_name            0\n",
       "track_album_release_date    0\n",
       "playlist_name               0\n",
       "playlist_id                 0\n",
       "playlist_genre              0\n",
       "playlist_subgenre           0\n",
       "danceability                0\n",
       "energy                      0\n",
       "key                         0\n",
       "loudness                    0\n",
       "mode                        0\n",
       "speechiness                 0\n",
       "acousticness                0\n",
       "instrumentalness            0\n",
       "liveness                    0\n",
       "valence                     0\n",
       "tempo                       0\n",
       "duration_ms                 0\n",
       "dtype: int64"
      ]
     },
     "execution_count": 9,
     "metadata": {},
     "output_type": "execute_result"
    }
   ],
   "source": [
    "X.isnull().sum()"
   ]
  },
  {
   "cell_type": "code",
   "execution_count": 13,
   "id": "345bbae2",
   "metadata": {},
   "outputs": [
    {
     "data": {
      "text/plain": [
       "track_id                     object\n",
       "track_name                   object\n",
       "track_artist                 object\n",
       "track_album_id               object\n",
       "track_album_name             object\n",
       "track_album_release_date     object\n",
       "playlist_name                object\n",
       "playlist_id                  object\n",
       "playlist_genre               object\n",
       "playlist_subgenre            object\n",
       "danceability                float64\n",
       "energy                      float64\n",
       "key                           int64\n",
       "loudness                    float64\n",
       "mode                          int64\n",
       "speechiness                 float64\n",
       "acousticness                float64\n",
       "instrumentalness            float64\n",
       "liveness                    float64\n",
       "valence                     float64\n",
       "tempo                       float64\n",
       "duration_ms                   int64\n",
       "dtype: object"
      ]
     },
     "execution_count": 13,
     "metadata": {},
     "output_type": "execute_result"
    }
   ],
   "source": [
    "X.dtypes"
   ]
  },
  {
   "cell_type": "code",
   "execution_count": 14,
   "id": "627922b9",
   "metadata": {},
   "outputs": [],
   "source": [
    "features_num = ['danceability', 'energy', 'key', 'loudness', 'mode',\n",
    "                'speechiness', 'acousticness', 'instrumentalness',\n",
    "                'liveness', 'valence', 'tempo', 'duration_ms']\n",
    "features_cat = ['playlist_genre']"
   ]
  },
  {
   "cell_type": "code",
   "execution_count": 15,
   "id": "5f6e975f",
   "metadata": {},
   "outputs": [],
   "source": [
    "preprocessor = make_column_transformer(\n",
    "    (StandardScaler(), features_num),\n",
    "    (OneHotEncoder(), features_cat),\n",
    ")"
   ]
  },
  {
   "cell_type": "code",
   "execution_count": 16,
   "id": "7e0d3a5b",
   "metadata": {},
   "outputs": [],
   "source": [
    "# We'll do a \"grouped\" split to keep all of an artist's songs in one\n",
    "# split or the other. This is to help prevent signal leakage.\n",
    "def group_split(X, y, group, train_size=0.75):\n",
    "    splitter = GroupShuffleSplit(train_size=train_size)\n",
    "    train, test = next(splitter.split(X, y, groups=group))\n",
    "    return (X.iloc[train], X.iloc[test], y.iloc[train], y.iloc[test])"
   ]
  },
  {
   "cell_type": "code",
   "execution_count": 17,
   "id": "2ab6aa26",
   "metadata": {},
   "outputs": [],
   "source": [
    "X_train, X_valid, y_train, y_valid = group_split(X, y, artists)"
   ]
  },
  {
   "cell_type": "code",
   "execution_count": 18,
   "id": "2919e6ec",
   "metadata": {},
   "outputs": [],
   "source": [
    "X_train = preprocessor.fit_transform(X_train)\n",
    "X_valid = preprocessor.transform(X_valid)\n",
    "y_train = y_train / 100 # popularity is on a scale 0-100, so this rescales to 0-1.\n",
    "y_valid = y_valid / 100"
   ]
  },
  {
   "cell_type": "code",
   "execution_count": 19,
   "id": "15566eba",
   "metadata": {},
   "outputs": [
    {
     "name": "stdout",
     "output_type": "stream",
     "text": [
      "Input shape: [18]\n"
     ]
    }
   ],
   "source": [
    "input_shape = [X_train.shape[1]]\n",
    "print(\"Input shape: {}\".format(input_shape))"
   ]
  },
  {
   "cell_type": "markdown",
   "id": "5f9d1cdb",
   "metadata": {},
   "source": [
    "Let's start with the simplest network, a linear model. This model has low capacity.\n",
    "\n",
    "Run this next cell without any changes to train a linear model on the Spotify dataset."
   ]
  },
  {
   "cell_type": "code",
   "execution_count": 22,
   "id": "42f38a01",
   "metadata": {},
   "outputs": [],
   "source": [
    "model = keras.Sequential([\n",
    "    layers.Dense(1, input_shape=input_shape),\n",
    "])\n",
    "model.compile(\n",
    "    optimizer='adam',\n",
    "    loss='mae',\n",
    ")\n",
    "history = model.fit(\n",
    "    X_train, y_train,\n",
    "    validation_data=(X_valid, y_valid),\n",
    "    batch_size=512,\n",
    "    epochs=50,\n",
    "    verbose=0, # suppress output since we'll plot the curves\n",
    ")"
   ]
  },
  {
   "cell_type": "code",
   "execution_count": 23,
   "id": "93a83141",
   "metadata": {},
   "outputs": [
    {
     "name": "stdout",
     "output_type": "stream",
     "text": [
      "Minimum Validation Loss: 0.1953\n"
     ]
    },
    {
     "data": {
      "image/png": "[encoded data removed]",
      "text/plain": [
       "<Figure size 432x288 with 1 Axes>"
      ]
     },
     "metadata": {
      "needs_background": "light"
     },
     "output_type": "display_data"
    }
   ],
   "source": [
    "history_df = pd.DataFrame(history.history)\n",
    "history_df.loc[0:, ['loss', 'val_loss']].plot()\n",
    "print(\"Minimum Validation Loss: {:0.4f}\".format(history_df['val_loss'].min()));"
   ]
  },
  {
   "cell_type": "markdown",
   "id": "310f9e76",
   "metadata": {},
   "source": [
    "It's not uncommon for the curves to follow a \"hockey stick\" pattern like you see here. This makes the final part of training hard to see, so let's start at epoch 10 instead:"
   ]
  },
  {
   "cell_type": "code",
   "execution_count": 24,
   "id": "4f1adbbb",
   "metadata": {},
   "outputs": [
    {
     "name": "stdout",
     "output_type": "stream",
     "text": [
      "Minimum Validation Loss: 0.1953\n"
     ]
    },
    {
     "data": {
      "image/png": "[encoded data removed]",
      "text/plain": [
       "<Figure size 432x288 with 1 Axes>"
      ]
     },
     "metadata": {
      "needs_background": "light"
     },
     "output_type": "display_data"
    }
   ],
   "source": [
    "# Start the plot at epoch 10\n",
    "history_df.loc[10:, ['loss', 'val_loss']].plot()\n",
    "print(\"Minimum Validation Loss: {:0.4f}\".format(history_df['val_loss'].min()));"
   ]
  },
  {
   "cell_type": "markdown",
   "id": "09acff93",
   "metadata": {},
   "source": [
    "### 1) Evaluate Baseline"
   ]
  },
  {
   "cell_type": "markdown",
   "id": "9a2428d0",
   "metadata": {},
   "source": [
    "The gap between these curves is quite small and the validation loss never increases, so it's more likely that the network is underfitting than overfitting. It would be worth experimenting with more capacity to see if that's the case."
   ]
  },
  {
   "cell_type": "markdown",
   "id": "85421273",
   "metadata": {},
   "source": [
    "Now let's add some capacity to our network. We'll add three hidden layers with 128 units each. Run the next cell to train the network and see the learning curves."
   ]
  },
  {
   "cell_type": "code",
   "execution_count": 25,
   "id": "965973f1",
   "metadata": {},
   "outputs": [
    {
     "name": "stdout",
     "output_type": "stream",
     "text": [
      "Epoch 1/50\n",
      "49/49 [==============================] - 0s 3ms/step - loss: 0.2812 - val_loss: 0.2091\n",
      "Epoch 2/50\n",
      "49/49 [==============================] - 0s 2ms/step - loss: 0.2031 - val_loss: 0.2024\n",
      "Epoch 3/50\n",
      "49/49 [==============================] - 0s 2ms/step - loss: 0.1975 - val_loss: 0.2009\n",
      "Epoch 4/50\n",
      "49/49 [==============================] - 0s 2ms/step - loss: 0.1945 - val_loss: 0.1978\n",
      "Epoch 5/50\n",
      "49/49 [==============================] - 0s 2ms/step - loss: 0.1927 - val_loss: 0.1980\n",
      "Epoch 6/50\n",
      "49/49 [==============================] - 0s 2ms/step - loss: 0.1910 - val_loss: 0.1982\n",
      "Epoch 7/50\n",
      "49/49 [==============================] - 0s 2ms/step - loss: 0.1894 - val_loss: 0.1964\n",
      "Epoch 8/50\n",
      "49/49 [==============================] - 0s 2ms/step - loss: 0.1882 - val_loss: 0.1957\n",
      "Epoch 9/50\n",
      "49/49 [==============================] - 0s 2ms/step - loss: 0.1870 - val_loss: 0.1960\n",
      "Epoch 10/50\n",
      "49/49 [==============================] - 0s 2ms/step - loss: 0.1861 - val_loss: 0.1949\n",
      "Epoch 11/50\n",
      "49/49 [==============================] - 0s 2ms/step - loss: 0.1852 - val_loss: 0.1964\n",
      "Epoch 12/50\n",
      "49/49 [==============================] - 0s 2ms/step - loss: 0.1848 - val_loss: 0.1959\n",
      "Epoch 13/50\n",
      "49/49 [==============================] - 0s 2ms/step - loss: 0.1840 - val_loss: 0.1958\n",
      "Epoch 14/50\n",
      "49/49 [==============================] - 0s 2ms/step - loss: 0.1832 - val_loss: 0.1974\n",
      "Epoch 15/50\n",
      "49/49 [==============================] - 0s 2ms/step - loss: 0.1824 - val_loss: 0.1957\n",
      "Epoch 16/50\n",
      "49/49 [==============================] - 0s 2ms/step - loss: 0.1816 - val_loss: 0.1966\n",
      "Epoch 17/50\n",
      "49/49 [==============================] - 0s 2ms/step - loss: 0.1812 - val_loss: 0.1980\n",
      "Epoch 18/50\n",
      "49/49 [==============================] - 0s 2ms/step - loss: 0.1820 - val_loss: 0.1972\n",
      "Epoch 19/50\n",
      "49/49 [==============================] - 0s 2ms/step - loss: 0.1809 - val_loss: 0.1970\n",
      "Epoch 20/50\n",
      "49/49 [==============================] - 0s 2ms/step - loss: 0.1795 - val_loss: 0.1982\n",
      "Epoch 21/50\n",
      "49/49 [==============================] - 0s 1ms/step - loss: 0.1794 - val_loss: 0.1973\n",
      "Epoch 22/50\n",
      "49/49 [==============================] - 0s 1ms/step - loss: 0.1791 - val_loss: 0.1976\n",
      "Epoch 23/50\n",
      "49/49 [==============================] - 0s 1ms/step - loss: 0.1785 - val_loss: 0.1988\n",
      "Epoch 24/50\n",
      "49/49 [==============================] - 0s 1ms/step - loss: 0.1782 - val_loss: 0.1979\n",
      "Epoch 25/50\n",
      "49/49 [==============================] - 0s 2ms/step - loss: 0.1776 - val_loss: 0.1988\n",
      "Epoch 26/50\n",
      "49/49 [==============================] - 0s 3ms/step - loss: 0.1769 - val_loss: 0.1983\n",
      "Epoch 27/50\n",
      "49/49 [==============================] - 0s 2ms/step - loss: 0.1758 - val_loss: 0.1989\n",
      "Epoch 28/50\n",
      "49/49 [==============================] - 0s 2ms/step - loss: 0.1752 - val_loss: 0.1997\n",
      "Epoch 29/50\n",
      "49/49 [==============================] - 0s 1ms/step - loss: 0.1751 - val_loss: 0.1998\n",
      "Epoch 30/50\n",
      "49/49 [==============================] - 0s 2ms/step - loss: 0.1745 - val_loss: 0.1998\n",
      "Epoch 31/50\n",
      "49/49 [==============================] - 0s 1ms/step - loss: 0.1741 - val_loss: 0.2009\n",
      "Epoch 32/50\n",
      "49/49 [==============================] - 0s 1ms/step - loss: 0.1741 - val_loss: 0.1991\n",
      "Epoch 33/50\n",
      "49/49 [==============================] - 0s 1ms/step - loss: 0.1731 - val_loss: 0.2001\n",
      "Epoch 34/50\n",
      "49/49 [==============================] - 0s 1ms/step - loss: 0.1736 - val_loss: 0.2027\n",
      "Epoch 35/50\n",
      "49/49 [==============================] - 0s 2ms/step - loss: 0.1725 - val_loss: 0.2012\n",
      "Epoch 36/50\n",
      "49/49 [==============================] - 0s 2ms/step - loss: 0.1722 - val_loss: 0.2021\n",
      "Epoch 37/50\n",
      "49/49 [==============================] - 0s 2ms/step - loss: 0.1713 - val_loss: 0.2002\n",
      "Epoch 38/50\n",
      "49/49 [==============================] - 0s 1ms/step - loss: 0.1707 - val_loss: 0.2027\n",
      "Epoch 39/50\n",
      "49/49 [==============================] - 0s 1ms/step - loss: 0.1710 - val_loss: 0.2052\n",
      "Epoch 40/50\n",
      "49/49 [==============================] - 0s 1ms/step - loss: 0.1732 - val_loss: 0.2017\n",
      "Epoch 41/50\n",
      "49/49 [==============================] - 0s 1ms/step - loss: 0.1700 - val_loss: 0.2018\n",
      "Epoch 42/50\n",
      "49/49 [==============================] - 0s 1ms/step - loss: 0.1699 - val_loss: 0.2030\n",
      "Epoch 43/50\n",
      "49/49 [==============================] - 0s 2ms/step - loss: 0.1698 - val_loss: 0.2040\n",
      "Epoch 44/50\n",
      "49/49 [==============================] - 0s 1ms/step - loss: 0.1688 - val_loss: 0.2040\n",
      "Epoch 45/50\n",
      "49/49 [==============================] - 0s 1ms/step - loss: 0.1685 - val_loss: 0.2035\n",
      "Epoch 46/50\n",
      "49/49 [==============================] - 0s 1ms/step - loss: 0.1692 - val_loss: 0.2035\n",
      "Epoch 47/50\n",
      "49/49 [==============================] - 0s 2ms/step - loss: 0.1676 - val_loss: 0.2043\n",
      "Epoch 48/50\n",
      "49/49 [==============================] - 0s 2ms/step - loss: 0.1673 - val_loss: 0.2036\n",
      "Epoch 49/50\n",
      "49/49 [==============================] - 0s 1ms/step - loss: 0.1665 - val_loss: 0.2050\n",
      "Epoch 50/50\n",
      "49/49 [==============================] - 0s 2ms/step - loss: 0.1675 - val_loss: 0.2037\n"
     ]
    }
   ],
   "source": [
    "model = keras.Sequential([\n",
    "    layers.Dense(128, activation='relu', input_shape=input_shape),\n",
    "    layers.Dense(64, activation='relu'),\n",
    "    layers.Dense(1)\n",
    "])\n",
    "model.compile(\n",
    "    optimizer='adam',\n",
    "    loss='mae',\n",
    ")\n",
    "history = model.fit(\n",
    "    X_train, y_train,\n",
    "    validation_data=(X_valid, y_valid),\n",
    "    batch_size=512,\n",
    "    epochs=50,\n",
    ")"
   ]
  },
  {
   "cell_type": "code",
   "execution_count": 26,
   "id": "850b6dac",
   "metadata": {},
   "outputs": [
    {
     "name": "stdout",
     "output_type": "stream",
     "text": [
      "Minimum Validation Loss: 0.1949\n"
     ]
    },
    {
     "data": {
      "image/png": "[encoded data removed]",
      "text/plain": [
       "<Figure size 432x288 with 1 Axes>"
      ]
     },
     "metadata": {
      "needs_background": "light"
     },
     "output_type": "display_data"
    }
   ],
   "source": [
    "history_df = pd.DataFrame(history.history)\n",
    "history_df.loc[:, ['loss', 'val_loss']].plot()\n",
    "print(\"Minimum Validation Loss: {:0.4f}\".format(history_df['val_loss'].min()));"
   ]
  },
  {
   "cell_type": "markdown",
   "id": "8cb941d6",
   "metadata": {},
   "source": [
    "### 2) Add Capacity"
   ]
  },
  {
   "cell_type": "markdown",
   "id": "e1a02813",
   "metadata": {},
   "source": [
    "Now the validation loss begins to rise very early, while the training loss continues to decrease. This indicates that the network has begun to overfit. At this point, we would need to try something to prevent it, either by reducing the number of units or through a method like early stopping. (We'll see another in the next lesson!)"
   ]
  },
  {
   "cell_type": "markdown",
   "id": "6755139c",
   "metadata": {},
   "source": [
    "### 3) Define Early Stopping Callback"
   ]
  },
  {
   "cell_type": "markdown",
   "id": "81d2a460",
   "metadata": {},
   "source": [
    "Now define an early stopping callback that waits 5 epochs (patience') for a change in validation loss of at least 0.001 (min_delta) and keeps the weights with the best loss (restore_best_weights)."
   ]
  },
  {
   "cell_type": "code",
   "execution_count": 28,
   "id": "c30bda61",
   "metadata": {},
   "outputs": [],
   "source": [
    "early_stopping = callbacks.EarlyStopping(\n",
    "    patience=5,\n",
    "    min_delta=0.001,\n",
    "    restore_best_weights=True,\n",
    ")"
   ]
  },
  {
   "cell_type": "markdown",
   "id": "4dcb30a6",
   "metadata": {},
   "source": [
    "Now run this cell to train the model and get the learning curves. Notice the callbacks argument in model.fit."
   ]
  },
  {
   "cell_type": "code",
   "execution_count": 29,
   "id": "eabd19f8",
   "metadata": {},
   "outputs": [
    {
     "name": "stdout",
     "output_type": "stream",
     "text": [
      "Epoch 1/50\n",
      "49/49 [==============================] - 0s 3ms/step - loss: 0.2327 - val_loss: 0.2071\n",
      "Epoch 2/50\n",
      "49/49 [==============================] - 0s 2ms/step - loss: 0.2002 - val_loss: 0.2022\n",
      "Epoch 3/50\n",
      "49/49 [==============================] - 0s 2ms/step - loss: 0.1954 - val_loss: 0.1992\n",
      "Epoch 4/50\n",
      "49/49 [==============================] - 0s 2ms/step - loss: 0.1924 - val_loss: 0.2001\n",
      "Epoch 5/50\n",
      "49/49 [==============================] - 0s 2ms/step - loss: 0.1911 - val_loss: 0.2008\n",
      "Epoch 6/50\n",
      "49/49 [==============================] - 0s 2ms/step - loss: 0.1900 - val_loss: 0.1986\n",
      "Epoch 7/50\n",
      "49/49 [==============================] - 0s 2ms/step - loss: 0.1882 - val_loss: 0.1984\n",
      "Epoch 8/50\n",
      "49/49 [==============================] - 0s 2ms/step - loss: 0.1868 - val_loss: 0.1976\n",
      "Epoch 9/50\n",
      "49/49 [==============================] - 0s 2ms/step - loss: 0.1859 - val_loss: 0.1980\n",
      "Epoch 10/50\n",
      "49/49 [==============================] - 0s 2ms/step - loss: 0.1851 - val_loss: 0.1987\n",
      "Epoch 11/50\n",
      "49/49 [==============================] - 0s 2ms/step - loss: 0.1837 - val_loss: 0.1966\n",
      "Epoch 12/50\n",
      "49/49 [==============================] - 0s 2ms/step - loss: 0.1827 - val_loss: 0.1979\n",
      "Epoch 13/50\n",
      "49/49 [==============================] - 0s 3ms/step - loss: 0.1822 - val_loss: 0.1969\n"
     ]
    }
   ],
   "source": [
    "model = keras.Sequential([\n",
    "    layers.Dense(128, activation='relu', input_shape=input_shape),\n",
    "    layers.Dense(64, activation='relu'),    \n",
    "    layers.Dense(1)\n",
    "])\n",
    "model.compile(\n",
    "    optimizer='adam',\n",
    "    loss='mae',\n",
    ")\n",
    "history = model.fit(\n",
    "    X_train, y_train,\n",
    "    validation_data=(X_valid, y_valid),\n",
    "    batch_size=512,\n",
    "    epochs=50,\n",
    "    callbacks=[early_stopping]\n",
    ")"
   ]
  },
  {
   "cell_type": "code",
   "execution_count": 30,
   "id": "d8055cc9",
   "metadata": {},
   "outputs": [
    {
     "name": "stdout",
     "output_type": "stream",
     "text": [
      "Minimum Validation Loss: 0.1966\n"
     ]
    },
    {
     "data": {
      "image/png": "[encoded data removed]",
      "text/plain": [
       "<Figure size 432x288 with 1 Axes>"
      ]
     },
     "metadata": {
      "needs_background": "light"
     },
     "output_type": "display_data"
    }
   ],
   "source": [
    "history_df = pd.DataFrame(history.history)\n",
    "history_df.loc[:, ['loss', 'val_loss']].plot()\n",
    "print(\"Minimum Validation Loss: {:0.4f}\".format(history_df['val_loss'].min()));"
   ]
  },
  {
   "cell_type": "markdown",
   "id": "1856b9d0",
   "metadata": {},
   "source": [
    "### 4) Train and Interpret"
   ]
  },
  {
   "cell_type": "markdown",
   "id": "ea0c1d43",
   "metadata": {},
   "source": [
    "The early stopping callback did stop the training once the network began overfitting. Moreover, by including restore_best_weights we still get to keep the model where validation loss was lowest."
   ]
  },
  {
   "cell_type": "code",
   "execution_count": null,
   "id": "9f4dbf3b",
   "metadata": {},
   "outputs": [],
   "source": []
  }
 ],
 "metadata": {
  "kernelspec": {
   "display_name": "Python 3 (ipykernel)",
   "language": "python",
   "name": "python3"
  },
  "language_info": {
   "codemirror_mode": {
    "name": "ipython",
    "version": 3
   },
   "file_extension": ".py",
   "mimetype": "text/x-python",
   "name": "python",
   "nbconvert_exporter": "python",
   "pygments_lexer": "ipython3",
   "version": "3.8.11"
  }
 },
 "nbformat": 4,
 "nbformat_minor": 5
}
